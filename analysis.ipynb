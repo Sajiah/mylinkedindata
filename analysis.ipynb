{
 "cells": [
  {
   "cell_type": "code",
   "execution_count": 1,
   "id": "a1c051a3",
   "metadata": {},
   "outputs": [],
   "source": [
    "import pandas as pd\n",
    "import seaborn as sn\n",
    "import matplotlib as plot\n",
    "import matplotlib.pyplot as plt\n",
    "import numpy as np"
   ]
  },
  {
   "cell_type": "code",
   "execution_count": 2,
   "id": "23f7efbe",
   "metadata": {},
   "outputs": [],
   "source": [
    "connections = pd.read_csv('connections.csv')"
   ]
  },
  {
   "cell_type": "code",
   "execution_count": 3,
   "id": "6e8da40f",
   "metadata": {},
   "outputs": [
    {
     "data": {
      "text/html": [
       "<div>\n",
       "<style scoped>\n",
       "    .dataframe tbody tr th:only-of-type {\n",
       "        vertical-align: middle;\n",
       "    }\n",
       "\n",
       "    .dataframe tbody tr th {\n",
       "        vertical-align: top;\n",
       "    }\n",
       "\n",
       "    .dataframe thead th {\n",
       "        text-align: right;\n",
       "    }\n",
       "</style>\n",
       "<table border=\"1\" class=\"dataframe\">\n",
       "  <thead>\n",
       "    <tr style=\"text-align: right;\">\n",
       "      <th></th>\n",
       "      <th>First Name</th>\n",
       "      <th>Last Name</th>\n",
       "      <th>Email Address</th>\n",
       "      <th>Company</th>\n",
       "      <th>Position</th>\n",
       "      <th>Connected On</th>\n",
       "    </tr>\n",
       "  </thead>\n",
       "  <tbody>\n",
       "    <tr>\n",
       "      <th>0</th>\n",
       "      <td>Ashwathy</td>\n",
       "      <td>Rameshan</td>\n",
       "      <td>NaN</td>\n",
       "      <td>Syracuse University</td>\n",
       "      <td>Computer Science Grader</td>\n",
       "      <td>9-Sep-22</td>\n",
       "    </tr>\n",
       "    <tr>\n",
       "      <th>1</th>\n",
       "      <td>Sohaib Abid</td>\n",
       "      <td>Khan</td>\n",
       "      <td>NaN</td>\n",
       "      <td>AlmaneaCo</td>\n",
       "      <td>Procurement Specialist</td>\n",
       "      <td>8-Sep-22</td>\n",
       "    </tr>\n",
       "    <tr>\n",
       "      <th>2</th>\n",
       "      <td>Sharifah Salwa</td>\n",
       "      <td>Mohd Jafri</td>\n",
       "      <td>NaN</td>\n",
       "      <td>Pactera EDGE</td>\n",
       "      <td>Project Associate</td>\n",
       "      <td>7-Sep-22</td>\n",
       "    </tr>\n",
       "    <tr>\n",
       "      <th>3</th>\n",
       "      <td>Sara</td>\n",
       "      <td>Shahid</td>\n",
       "      <td>NaN</td>\n",
       "      <td>British Council</td>\n",
       "      <td>Exams Venue Staff</td>\n",
       "      <td>7-Sep-22</td>\n",
       "    </tr>\n",
       "    <tr>\n",
       "      <th>4</th>\n",
       "      <td>Mohammad Moneer</td>\n",
       "      <td>Nawabi</td>\n",
       "      <td>NaN</td>\n",
       "      <td>U.S. Department of State</td>\n",
       "      <td>Project Manager</td>\n",
       "      <td>4-Sep-22</td>\n",
       "    </tr>\n",
       "  </tbody>\n",
       "</table>\n",
       "</div>"
      ],
      "text/plain": [
       "        First Name   Last Name Email Address                   Company  \\\n",
       "0         Ashwathy    Rameshan           NaN       Syracuse University   \n",
       "1      Sohaib Abid        Khan           NaN                 AlmaneaCo   \n",
       "2   Sharifah Salwa  Mohd Jafri           NaN              Pactera EDGE   \n",
       "3             Sara      Shahid           NaN           British Council   \n",
       "4  Mohammad Moneer      Nawabi           NaN  U.S. Department of State   \n",
       "\n",
       "                  Position Connected On  \n",
       "0  Computer Science Grader     9-Sep-22  \n",
       "1   Procurement Specialist     8-Sep-22  \n",
       "2        Project Associate     7-Sep-22  \n",
       "3        Exams Venue Staff     7-Sep-22  \n",
       "4          Project Manager     4-Sep-22  "
      ]
     },
     "execution_count": 3,
     "metadata": {},
     "output_type": "execute_result"
    }
   ],
   "source": [
    "connections.head()"
   ]
  },
  {
   "cell_type": "code",
   "execution_count": 4,
   "id": "76b31444",
   "metadata": {},
   "outputs": [
    {
     "name": "stdout",
     "output_type": "stream",
     "text": [
      "<class 'pandas.core.frame.DataFrame'>\n",
      "RangeIndex: 313 entries, 0 to 312\n",
      "Data columns (total 6 columns):\n",
      " #   Column         Non-Null Count  Dtype \n",
      "---  ------         --------------  ----- \n",
      " 0   First Name     306 non-null    object\n",
      " 1   Last Name      306 non-null    object\n",
      " 2   Email Address  4 non-null      object\n",
      " 3   Company        296 non-null    object\n",
      " 4   Position       296 non-null    object\n",
      " 5   Connected On   313 non-null    object\n",
      "dtypes: object(6)\n",
      "memory usage: 14.8+ KB\n"
     ]
    }
   ],
   "source": [
    "connections.info()"
   ]
  },
  {
   "cell_type": "code",
   "execution_count": 5,
   "id": "ef246959",
   "metadata": {},
   "outputs": [],
   "source": [
    "connections['Connected On'] = pd.to_datetime(connections['Connected On'])"
   ]
  },
  {
   "cell_type": "code",
   "execution_count": 6,
   "id": "112658c4",
   "metadata": {},
   "outputs": [],
   "source": [
    "connections_per_date =connections.groupby('Connected On',as_index=False).size()"
   ]
  },
  {
   "cell_type": "code",
   "execution_count": 7,
   "id": "0a8aa2d1",
   "metadata": {},
   "outputs": [
    {
     "data": {
      "text/html": [
       "<div>\n",
       "<style scoped>\n",
       "    .dataframe tbody tr th:only-of-type {\n",
       "        vertical-align: middle;\n",
       "    }\n",
       "\n",
       "    .dataframe tbody tr th {\n",
       "        vertical-align: top;\n",
       "    }\n",
       "\n",
       "    .dataframe thead th {\n",
       "        text-align: right;\n",
       "    }\n",
       "</style>\n",
       "<table border=\"1\" class=\"dataframe\">\n",
       "  <thead>\n",
       "    <tr style=\"text-align: right;\">\n",
       "      <th></th>\n",
       "      <th>Connected On</th>\n",
       "      <th>size</th>\n",
       "    </tr>\n",
       "  </thead>\n",
       "  <tbody>\n",
       "    <tr>\n",
       "      <th>0</th>\n",
       "      <td>2017-03-01</td>\n",
       "      <td>10</td>\n",
       "    </tr>\n",
       "    <tr>\n",
       "      <th>1</th>\n",
       "      <td>2017-03-02</td>\n",
       "      <td>3</td>\n",
       "    </tr>\n",
       "    <tr>\n",
       "      <th>2</th>\n",
       "      <td>2017-03-04</td>\n",
       "      <td>1</td>\n",
       "    </tr>\n",
       "    <tr>\n",
       "      <th>3</th>\n",
       "      <td>2017-03-09</td>\n",
       "      <td>1</td>\n",
       "    </tr>\n",
       "    <tr>\n",
       "      <th>4</th>\n",
       "      <td>2017-03-10</td>\n",
       "      <td>1</td>\n",
       "    </tr>\n",
       "    <tr>\n",
       "      <th>...</th>\n",
       "      <td>...</td>\n",
       "      <td>...</td>\n",
       "    </tr>\n",
       "    <tr>\n",
       "      <th>107</th>\n",
       "      <td>2022-09-03</td>\n",
       "      <td>2</td>\n",
       "    </tr>\n",
       "    <tr>\n",
       "      <th>108</th>\n",
       "      <td>2022-09-04</td>\n",
       "      <td>1</td>\n",
       "    </tr>\n",
       "    <tr>\n",
       "      <th>109</th>\n",
       "      <td>2022-09-07</td>\n",
       "      <td>2</td>\n",
       "    </tr>\n",
       "    <tr>\n",
       "      <th>110</th>\n",
       "      <td>2022-09-08</td>\n",
       "      <td>1</td>\n",
       "    </tr>\n",
       "    <tr>\n",
       "      <th>111</th>\n",
       "      <td>2022-09-09</td>\n",
       "      <td>1</td>\n",
       "    </tr>\n",
       "  </tbody>\n",
       "</table>\n",
       "<p>112 rows × 2 columns</p>\n",
       "</div>"
      ],
      "text/plain": [
       "    Connected On  size\n",
       "0     2017-03-01    10\n",
       "1     2017-03-02     3\n",
       "2     2017-03-04     1\n",
       "3     2017-03-09     1\n",
       "4     2017-03-10     1\n",
       "..           ...   ...\n",
       "107   2022-09-03     2\n",
       "108   2022-09-04     1\n",
       "109   2022-09-07     2\n",
       "110   2022-09-08     1\n",
       "111   2022-09-09     1\n",
       "\n",
       "[112 rows x 2 columns]"
      ]
     },
     "execution_count": 7,
     "metadata": {},
     "output_type": "execute_result"
    }
   ],
   "source": [
    "connections_per_date"
   ]
  },
  {
   "cell_type": "code",
   "execution_count": 50,
   "id": "6ab89c4b",
   "metadata": {},
   "outputs": [],
   "source": [
    "df_date = pd.DataFrame(connections_per_date)"
   ]
  },
  {
   "cell_type": "code",
   "execution_count": 51,
   "id": "8a0caeba",
   "metadata": {},
   "outputs": [],
   "source": [
    "most_nums = df_date[df_date['Connected On'].between('2020-01-01', '2020-05-01')]"
   ]
  },
  {
   "cell_type": "code",
   "execution_count": 61,
   "id": "42aceaec",
   "metadata": {},
   "outputs": [],
   "source": [
    "df_date_1 = df_date[df_date['Connected On'].between('2017-03-01', '2020-01-10')]"
   ]
  },
  {
   "cell_type": "code",
   "execution_count": 53,
   "id": "801882ac",
   "metadata": {},
   "outputs": [],
   "source": [
    "df_date_2 = df_date[df_date['Connected On'].between('2020-05-01', '2022-09-09')]"
   ]
  },
  {
   "cell_type": "code",
   "execution_count": 48,
   "id": "d978ebff",
   "metadata": {},
   "outputs": [],
   "source": [
    "# df_date = df_date.drop(most_nums.index)"
   ]
  },
  {
   "cell_type": "code",
   "execution_count": 32,
   "id": "4610481d",
   "metadata": {},
   "outputs": [
    {
     "data": {
      "text/html": [
       "<div>\n",
       "<style scoped>\n",
       "    .dataframe tbody tr th:only-of-type {\n",
       "        vertical-align: middle;\n",
       "    }\n",
       "\n",
       "    .dataframe tbody tr th {\n",
       "        vertical-align: top;\n",
       "    }\n",
       "\n",
       "    .dataframe thead th {\n",
       "        text-align: right;\n",
       "    }\n",
       "</style>\n",
       "<table border=\"1\" class=\"dataframe\">\n",
       "  <thead>\n",
       "    <tr style=\"text-align: right;\">\n",
       "      <th></th>\n",
       "      <th>Connected On</th>\n",
       "      <th>size</th>\n",
       "    </tr>\n",
       "  </thead>\n",
       "  <tbody>\n",
       "    <tr>\n",
       "      <th>0</th>\n",
       "      <td>2017-03-01</td>\n",
       "      <td>10</td>\n",
       "    </tr>\n",
       "    <tr>\n",
       "      <th>1</th>\n",
       "      <td>2017-03-02</td>\n",
       "      <td>3</td>\n",
       "    </tr>\n",
       "    <tr>\n",
       "      <th>2</th>\n",
       "      <td>2017-03-04</td>\n",
       "      <td>1</td>\n",
       "    </tr>\n",
       "    <tr>\n",
       "      <th>3</th>\n",
       "      <td>2017-03-09</td>\n",
       "      <td>1</td>\n",
       "    </tr>\n",
       "    <tr>\n",
       "      <th>4</th>\n",
       "      <td>2017-03-10</td>\n",
       "      <td>1</td>\n",
       "    </tr>\n",
       "    <tr>\n",
       "      <th>...</th>\n",
       "      <td>...</td>\n",
       "      <td>...</td>\n",
       "    </tr>\n",
       "    <tr>\n",
       "      <th>107</th>\n",
       "      <td>2022-09-03</td>\n",
       "      <td>2</td>\n",
       "    </tr>\n",
       "    <tr>\n",
       "      <th>108</th>\n",
       "      <td>2022-09-04</td>\n",
       "      <td>1</td>\n",
       "    </tr>\n",
       "    <tr>\n",
       "      <th>109</th>\n",
       "      <td>2022-09-07</td>\n",
       "      <td>2</td>\n",
       "    </tr>\n",
       "    <tr>\n",
       "      <th>110</th>\n",
       "      <td>2022-09-08</td>\n",
       "      <td>1</td>\n",
       "    </tr>\n",
       "    <tr>\n",
       "      <th>111</th>\n",
       "      <td>2022-09-09</td>\n",
       "      <td>1</td>\n",
       "    </tr>\n",
       "  </tbody>\n",
       "</table>\n",
       "<p>82 rows × 2 columns</p>\n",
       "</div>"
      ],
      "text/plain": [
       "    Connected On  size\n",
       "0     2017-03-01    10\n",
       "1     2017-03-02     3\n",
       "2     2017-03-04     1\n",
       "3     2017-03-09     1\n",
       "4     2017-03-10     1\n",
       "..           ...   ...\n",
       "107   2022-09-03     2\n",
       "108   2022-09-04     1\n",
       "109   2022-09-07     2\n",
       "110   2022-09-08     1\n",
       "111   2022-09-09     1\n",
       "\n",
       "[82 rows x 2 columns]"
      ]
     },
     "execution_count": 32,
     "metadata": {},
     "output_type": "execute_result"
    }
   ],
   "source": []
  },
  {
   "cell_type": "code",
   "execution_count": 196,
   "id": "a085cb7a",
   "metadata": {},
   "outputs": [
    {
     "data": {
      "text/plain": [
       "Text(0, 0.5, 'New Connections')"
      ]
     },
     "execution_count": 196,
     "metadata": {},
     "output_type": "execute_result"
    },
    {
     "data": {
      "image/png": "[encoded data removed]",
      "text/plain": [
       "<Figure size 1440x576 with 1 Axes>"
      ]
     },
     "metadata": {
      "needs_background": "light"
     },
     "output_type": "display_data"
    }
   ],
   "source": [
    "import matplotlib.dates as mdates\n",
    "fig, ax = plt.subplots(figsize=(20, 8))\n",
    "half_year_locator = mdates.MonthLocator(interval=6)\n",
    "year_month_formatter = mdates.DateFormatter(\"%Y-%m\") # four digits for year, two for month\n",
    "\n",
    "# Same as above\n",
    "ax.xaxis.set_major_locator(half_year_locator)\n",
    "ax.xaxis.set_major_formatter(year_month_formatter)\n",
    "ax.plot(df_date_1['Connected On'], df_date_1['size'], color = '#55aa99')\n",
    "ax.plot(most_nums['Connected On'], most_nums['size'], color = '#243a35')\n",
    "ax.plot(df_date_2['Connected On'], df_date_2['size'], color = '#55aa99')\n",
    "\n",
    "# Rotates and right aligns the x labels. \n",
    "# Also moves the bottom of the axes up to make room for them.\n",
    "fig.autofmt_xdate()\n",
    "fig.suptitle('New connections (Sajiah) made each year', fontsize=20)\n",
    "plt.xlabel('Date', fontsize=18)\n",
    "plt.ylabel('New Connections', fontsize=16)"
   ]
  },
  {
   "cell_type": "code",
   "execution_count": 20,
   "id": "baf7d9d6",
   "metadata": {},
   "outputs": [],
   "source": [
    "df = pd.DataFrame(connections_per_date)"
   ]
  },
  {
   "cell_type": "code",
   "execution_count": 24,
   "id": "ab3f6383",
   "metadata": {},
   "outputs": [
    {
     "data": {
      "text/html": [
       "<div>\n",
       "<style scoped>\n",
       "    .dataframe tbody tr th:only-of-type {\n",
       "        vertical-align: middle;\n",
       "    }\n",
       "\n",
       "    .dataframe tbody tr th {\n",
       "        vertical-align: top;\n",
       "    }\n",
       "\n",
       "    .dataframe thead th {\n",
       "        text-align: right;\n",
       "    }\n",
       "</style>\n",
       "<table border=\"1\" class=\"dataframe\">\n",
       "  <thead>\n",
       "    <tr style=\"text-align: right;\">\n",
       "      <th></th>\n",
       "      <th>Connected On</th>\n",
       "      <th>size</th>\n",
       "    </tr>\n",
       "  </thead>\n",
       "  <tbody>\n",
       "    <tr>\n",
       "      <th>41</th>\n",
       "      <td>2020-04-21</td>\n",
       "      <td>20</td>\n",
       "    </tr>\n",
       "    <tr>\n",
       "      <th>42</th>\n",
       "      <td>2020-04-23</td>\n",
       "      <td>8</td>\n",
       "    </tr>\n",
       "    <tr>\n",
       "      <th>43</th>\n",
       "      <td>2020-04-30</td>\n",
       "      <td>6</td>\n",
       "    </tr>\n",
       "    <tr>\n",
       "      <th>44</th>\n",
       "      <td>2020-05-02</td>\n",
       "      <td>5</td>\n",
       "    </tr>\n",
       "    <tr>\n",
       "      <th>45</th>\n",
       "      <td>2020-05-04</td>\n",
       "      <td>6</td>\n",
       "    </tr>\n",
       "    <tr>\n",
       "      <th>46</th>\n",
       "      <td>2020-05-07</td>\n",
       "      <td>3</td>\n",
       "    </tr>\n",
       "    <tr>\n",
       "      <th>47</th>\n",
       "      <td>2020-05-09</td>\n",
       "      <td>3</td>\n",
       "    </tr>\n",
       "    <tr>\n",
       "      <th>48</th>\n",
       "      <td>2020-05-11</td>\n",
       "      <td>2</td>\n",
       "    </tr>\n",
       "    <tr>\n",
       "      <th>49</th>\n",
       "      <td>2020-05-12</td>\n",
       "      <td>4</td>\n",
       "    </tr>\n",
       "    <tr>\n",
       "      <th>50</th>\n",
       "      <td>2020-05-13</td>\n",
       "      <td>1</td>\n",
       "    </tr>\n",
       "    <tr>\n",
       "      <th>51</th>\n",
       "      <td>2020-05-14</td>\n",
       "      <td>1</td>\n",
       "    </tr>\n",
       "    <tr>\n",
       "      <th>52</th>\n",
       "      <td>2020-05-19</td>\n",
       "      <td>15</td>\n",
       "    </tr>\n",
       "    <tr>\n",
       "      <th>53</th>\n",
       "      <td>2020-05-20</td>\n",
       "      <td>1</td>\n",
       "    </tr>\n",
       "    <tr>\n",
       "      <th>54</th>\n",
       "      <td>2020-06-02</td>\n",
       "      <td>1</td>\n",
       "    </tr>\n",
       "    <tr>\n",
       "      <th>55</th>\n",
       "      <td>2020-06-03</td>\n",
       "      <td>3</td>\n",
       "    </tr>\n",
       "    <tr>\n",
       "      <th>56</th>\n",
       "      <td>2020-06-07</td>\n",
       "      <td>1</td>\n",
       "    </tr>\n",
       "    <tr>\n",
       "      <th>57</th>\n",
       "      <td>2020-06-08</td>\n",
       "      <td>1</td>\n",
       "    </tr>\n",
       "    <tr>\n",
       "      <th>58</th>\n",
       "      <td>2020-06-09</td>\n",
       "      <td>8</td>\n",
       "    </tr>\n",
       "    <tr>\n",
       "      <th>59</th>\n",
       "      <td>2020-06-11</td>\n",
       "      <td>2</td>\n",
       "    </tr>\n",
       "    <tr>\n",
       "      <th>60</th>\n",
       "      <td>2020-07-20</td>\n",
       "      <td>10</td>\n",
       "    </tr>\n",
       "    <tr>\n",
       "      <th>61</th>\n",
       "      <td>2020-08-03</td>\n",
       "      <td>5</td>\n",
       "    </tr>\n",
       "    <tr>\n",
       "      <th>62</th>\n",
       "      <td>2020-08-05</td>\n",
       "      <td>1</td>\n",
       "    </tr>\n",
       "    <tr>\n",
       "      <th>63</th>\n",
       "      <td>2020-08-08</td>\n",
       "      <td>4</td>\n",
       "    </tr>\n",
       "    <tr>\n",
       "      <th>64</th>\n",
       "      <td>2020-08-09</td>\n",
       "      <td>3</td>\n",
       "    </tr>\n",
       "    <tr>\n",
       "      <th>65</th>\n",
       "      <td>2020-08-10</td>\n",
       "      <td>4</td>\n",
       "    </tr>\n",
       "    <tr>\n",
       "      <th>66</th>\n",
       "      <td>2020-08-11</td>\n",
       "      <td>1</td>\n",
       "    </tr>\n",
       "    <tr>\n",
       "      <th>67</th>\n",
       "      <td>2020-08-12</td>\n",
       "      <td>2</td>\n",
       "    </tr>\n",
       "    <tr>\n",
       "      <th>68</th>\n",
       "      <td>2020-08-13</td>\n",
       "      <td>1</td>\n",
       "    </tr>\n",
       "    <tr>\n",
       "      <th>69</th>\n",
       "      <td>2020-08-18</td>\n",
       "      <td>2</td>\n",
       "    </tr>\n",
       "    <tr>\n",
       "      <th>70</th>\n",
       "      <td>2020-09-04</td>\n",
       "      <td>1</td>\n",
       "    </tr>\n",
       "  </tbody>\n",
       "</table>\n",
       "</div>"
      ],
      "text/plain": [
       "   Connected On  size\n",
       "41   2020-04-21    20\n",
       "42   2020-04-23     8\n",
       "43   2020-04-30     6\n",
       "44   2020-05-02     5\n",
       "45   2020-05-04     6\n",
       "46   2020-05-07     3\n",
       "47   2020-05-09     3\n",
       "48   2020-05-11     2\n",
       "49   2020-05-12     4\n",
       "50   2020-05-13     1\n",
       "51   2020-05-14     1\n",
       "52   2020-05-19    15\n",
       "53   2020-05-20     1\n",
       "54   2020-06-02     1\n",
       "55   2020-06-03     3\n",
       "56   2020-06-07     1\n",
       "57   2020-06-08     1\n",
       "58   2020-06-09     8\n",
       "59   2020-06-11     2\n",
       "60   2020-07-20    10\n",
       "61   2020-08-03     5\n",
       "62   2020-08-05     1\n",
       "63   2020-08-08     4\n",
       "64   2020-08-09     3\n",
       "65   2020-08-10     4\n",
       "66   2020-08-11     1\n",
       "67   2020-08-12     2\n",
       "68   2020-08-13     1\n",
       "69   2020-08-18     2\n",
       "70   2020-09-04     1"
      ]
     },
     "execution_count": 24,
     "metadata": {},
     "output_type": "execute_result"
    }
   ],
   "source": [
    "df[df['Connected On'].between('2020-04-01', '2020-10-01')]"
   ]
  },
  {
   "cell_type": "code",
   "execution_count": 9,
   "id": "e668442e",
   "metadata": {},
   "outputs": [],
   "source": [
    "invitations = pd.read_csv('Invitations.csv')"
   ]
  },
  {
   "cell_type": "code",
   "execution_count": 10,
   "id": "3dc03a77",
   "metadata": {},
   "outputs": [
    {
     "data": {
      "text/html": [
       "<div>\n",
       "<style scoped>\n",
       "    .dataframe tbody tr th:only-of-type {\n",
       "        vertical-align: middle;\n",
       "    }\n",
       "\n",
       "    .dataframe tbody tr th {\n",
       "        vertical-align: top;\n",
       "    }\n",
       "\n",
       "    .dataframe thead th {\n",
       "        text-align: right;\n",
       "    }\n",
       "</style>\n",
       "<table border=\"1\" class=\"dataframe\">\n",
       "  <thead>\n",
       "    <tr style=\"text-align: right;\">\n",
       "      <th></th>\n",
       "      <th>From</th>\n",
       "      <th>To</th>\n",
       "      <th>Sent At</th>\n",
       "      <th>Message</th>\n",
       "      <th>Direction</th>\n",
       "    </tr>\n",
       "  </thead>\n",
       "  <tbody>\n",
       "    <tr>\n",
       "      <th>0</th>\n",
       "      <td>Sajiah Naqib</td>\n",
       "      <td>Aatif Belal</td>\n",
       "      <td>8/26/22, 8:56 PM</td>\n",
       "      <td>NaN</td>\n",
       "      <td>OUTGOING</td>\n",
       "    </tr>\n",
       "    <tr>\n",
       "      <th>1</th>\n",
       "      <td>Sajiah Naqib</td>\n",
       "      <td>Pranav Reddy</td>\n",
       "      <td>8/26/22, 5:27 PM</td>\n",
       "      <td>NaN</td>\n",
       "      <td>OUTGOING</td>\n",
       "    </tr>\n",
       "    <tr>\n",
       "      <th>2</th>\n",
       "      <td>Sajiah Naqib</td>\n",
       "      <td>Smitha Ithal</td>\n",
       "      <td>8/26/22, 5:28 PM</td>\n",
       "      <td>NaN</td>\n",
       "      <td>OUTGOING</td>\n",
       "    </tr>\n",
       "    <tr>\n",
       "      <th>3</th>\n",
       "      <td>Sajiah Naqib</td>\n",
       "      <td>Janani Hemachandran</td>\n",
       "      <td>8/25/22, 5:07 PM</td>\n",
       "      <td>NaN</td>\n",
       "      <td>OUTGOING</td>\n",
       "    </tr>\n",
       "    <tr>\n",
       "      <th>4</th>\n",
       "      <td>Sajiah Naqib</td>\n",
       "      <td>Madhura Anand</td>\n",
       "      <td>8/24/22, 8:19 AM</td>\n",
       "      <td>NaN</td>\n",
       "      <td>OUTGOING</td>\n",
       "    </tr>\n",
       "  </tbody>\n",
       "</table>\n",
       "</div>"
      ],
      "text/plain": [
       "           From                   To           Sent At Message Direction\n",
       "0  Sajiah Naqib          Aatif Belal  8/26/22, 8:56 PM     NaN  OUTGOING\n",
       "1  Sajiah Naqib         Pranav Reddy  8/26/22, 5:27 PM     NaN  OUTGOING\n",
       "2  Sajiah Naqib         Smitha Ithal  8/26/22, 5:28 PM     NaN  OUTGOING\n",
       "3  Sajiah Naqib  Janani Hemachandran  8/25/22, 5:07 PM     NaN  OUTGOING\n",
       "4  Sajiah Naqib        Madhura Anand  8/24/22, 8:19 AM     NaN  OUTGOING"
      ]
     },
     "execution_count": 10,
     "metadata": {},
     "output_type": "execute_result"
    }
   ],
   "source": [
    "invitations.head()"
   ]
  },
  {
   "cell_type": "code",
   "execution_count": 11,
   "id": "05d83961",
   "metadata": {},
   "outputs": [],
   "source": [
    "def change_wording(x):\n",
    "    if x == 'OUTGOING':\n",
    "        return \"Sent\"\n",
    "    else:\n",
    "        return \"Received\"\n",
    "\n",
    "invitations['Direction'] = invitations['Direction'].apply(change_wording)"
   ]
  },
  {
   "cell_type": "code",
   "execution_count": 12,
   "id": "5e62d29e",
   "metadata": {},
   "outputs": [],
   "source": [
    "invitations_type =invitations.groupby('Direction',as_index=False).size()"
   ]
  },
  {
   "cell_type": "code",
   "execution_count": 13,
   "id": "53734853",
   "metadata": {},
   "outputs": [
    {
     "data": {
      "text/html": [
       "<div>\n",
       "<style scoped>\n",
       "    .dataframe tbody tr th:only-of-type {\n",
       "        vertical-align: middle;\n",
       "    }\n",
       "\n",
       "    .dataframe tbody tr th {\n",
       "        vertical-align: top;\n",
       "    }\n",
       "\n",
       "    .dataframe thead th {\n",
       "        text-align: right;\n",
       "    }\n",
       "</style>\n",
       "<table border=\"1\" class=\"dataframe\">\n",
       "  <thead>\n",
       "    <tr style=\"text-align: right;\">\n",
       "      <th></th>\n",
       "      <th>Direction</th>\n",
       "      <th>size</th>\n",
       "    </tr>\n",
       "  </thead>\n",
       "  <tbody>\n",
       "    <tr>\n",
       "      <th>0</th>\n",
       "      <td>Received</td>\n",
       "      <td>58</td>\n",
       "    </tr>\n",
       "    <tr>\n",
       "      <th>1</th>\n",
       "      <td>Sent</td>\n",
       "      <td>10</td>\n",
       "    </tr>\n",
       "  </tbody>\n",
       "</table>\n",
       "</div>"
      ],
      "text/plain": [
       "  Direction  size\n",
       "0  Received    58\n",
       "1      Sent    10"
      ]
     },
     "execution_count": 13,
     "metadata": {},
     "output_type": "execute_result"
    }
   ],
   "source": [
    "invitations_type"
   ]
  },
  {
   "cell_type": "code",
   "execution_count": 14,
   "id": "3645279c",
   "metadata": {},
   "outputs": [],
   "source": [
    "x = invitations_type['Direction'].to_list()\n",
    "y = invitations_type['size'].to_list()"
   ]
  },
  {
   "cell_type": "code",
   "execution_count": 141,
   "id": "91526c38",
   "metadata": {},
   "outputs": [
    {
     "data": {
      "image/png": "[encoded data removed]",
      "text/plain": [
       "<Figure size 432x288 with 1 Axes>"
      ]
     },
     "metadata": {},
     "output_type": "display_data"
    }
   ],
   "source": [
    "\n",
    "# #add colors\n",
    "# colors = ['#ff9999','#66b3ff','#99ff99','#ffcc99']\n",
    "# directions = invitations['Direction'].value_counts().to_dict()\n",
    "# x = list(directions.values())\n",
    "# labels = directions.keys()\n",
    "fig1, ax1 = plt.subplots()\n",
    "# ax1.pie(x, labels=labels, autopct='%1.1f%%',\n",
    "#         shadow=True, startangle=90,colors=colors,radius=1800)\n",
    "# ax1.axis('equal')\n",
    "# plt.title('Invitations sent and received')\n",
    "# plt.show()\n",
    "\n",
    "# Pie chart\n",
    "labels = x\n",
    "sizes = y\n",
    "#colors\n",
    "colors = ['#5fb4a3','#b2dad0','#99ff99','#ffcc99']\n",
    "\n",
    " \n",
    "plt.pie(sizes, colors = colors, labels=labels, autopct='%1.1f%%', startangle=90, pctdistance=0.85)\n",
    "#draw circle\n",
    "centre_circle = plt.Circle((0,0),0.70,fc='white')\n",
    "fig = plt.gcf()\n",
    "fig.gca().add_artist(centre_circle)\n",
    "# Equal aspect ratio ensures that pie is drawn as a circle\n",
    "ax1.axis('equal')  \n",
    "plt.tight_layout()\n",
    "plt.title('Invitations sent and received', fontsize=16)\n",
    "plt.show()"
   ]
  },
  {
   "cell_type": "code",
   "execution_count": 77,
   "id": "398ee21f",
   "metadata": {},
   "outputs": [],
   "source": [
    "reactions = pd.read_csv('Reactions.csv')"
   ]
  },
  {
   "cell_type": "code",
   "execution_count": 78,
   "id": "1238d978",
   "metadata": {},
   "outputs": [
    {
     "data": {
      "text/html": [
       "<div>\n",
       "<style scoped>\n",
       "    .dataframe tbody tr th:only-of-type {\n",
       "        vertical-align: middle;\n",
       "    }\n",
       "\n",
       "    .dataframe tbody tr th {\n",
       "        vertical-align: top;\n",
       "    }\n",
       "\n",
       "    .dataframe thead th {\n",
       "        text-align: right;\n",
       "    }\n",
       "</style>\n",
       "<table border=\"1\" class=\"dataframe\">\n",
       "  <thead>\n",
       "    <tr style=\"text-align: right;\">\n",
       "      <th></th>\n",
       "      <th>Date</th>\n",
       "      <th>Type</th>\n",
       "      <th>Link</th>\n",
       "    </tr>\n",
       "  </thead>\n",
       "  <tbody>\n",
       "    <tr>\n",
       "      <th>0</th>\n",
       "      <td>2022-09-11 02:49:29</td>\n",
       "      <td>LIKE</td>\n",
       "      <td>https://www.linkedin.com/feed/update/urn%3Ali%...</td>\n",
       "    </tr>\n",
       "    <tr>\n",
       "      <th>1</th>\n",
       "      <td>2022-09-10 14:17:11</td>\n",
       "      <td>LIKE</td>\n",
       "      <td>https://www.linkedin.com/feed/update/urn%3Ali%...</td>\n",
       "    </tr>\n",
       "    <tr>\n",
       "      <th>2</th>\n",
       "      <td>2022-09-10 14:17:04</td>\n",
       "      <td>LIKE</td>\n",
       "      <td>https://www.linkedin.com/feed/update/urn%3Ali%...</td>\n",
       "    </tr>\n",
       "    <tr>\n",
       "      <th>3</th>\n",
       "      <td>2022-09-10 14:16:54</td>\n",
       "      <td>LIKE</td>\n",
       "      <td>https://www.linkedin.com/feed/update/urn%3Ali%...</td>\n",
       "    </tr>\n",
       "    <tr>\n",
       "      <th>4</th>\n",
       "      <td>2022-09-10 04:03:25</td>\n",
       "      <td>LIKE</td>\n",
       "      <td>https://www.linkedin.com/feed/update/urn%3Ali%...</td>\n",
       "    </tr>\n",
       "  </tbody>\n",
       "</table>\n",
       "</div>"
      ],
      "text/plain": [
       "                  Date  Type  \\\n",
       "0  2022-09-11 02:49:29  LIKE   \n",
       "1  2022-09-10 14:17:11  LIKE   \n",
       "2  2022-09-10 14:17:04  LIKE   \n",
       "3  2022-09-10 14:16:54  LIKE   \n",
       "4  2022-09-10 04:03:25  LIKE   \n",
       "\n",
       "                                                Link  \n",
       "0  https://www.linkedin.com/feed/update/urn%3Ali%...  \n",
       "1  https://www.linkedin.com/feed/update/urn%3Ali%...  \n",
       "2  https://www.linkedin.com/feed/update/urn%3Ali%...  \n",
       "3  https://www.linkedin.com/feed/update/urn%3Ali%...  \n",
       "4  https://www.linkedin.com/feed/update/urn%3Ali%...  "
      ]
     },
     "execution_count": 78,
     "metadata": {},
     "output_type": "execute_result"
    }
   ],
   "source": [
    "reactions.head(5)"
   ]
  },
  {
   "cell_type": "code",
   "execution_count": 127,
   "id": "ebdcc0bd",
   "metadata": {},
   "outputs": [],
   "source": [
    "reactions_get_type = reactions.groupby('Type').size()"
   ]
  },
  {
   "cell_type": "code",
   "execution_count": 128,
   "id": "8ed3f6fa",
   "metadata": {},
   "outputs": [
    {
     "data": {
      "text/plain": [
       "Type\n",
       "APPRECIATION       1\n",
       "EMPATHY           33\n",
       "ENTERTAINMENT      1\n",
       "INTEREST           1\n",
       "LIKE             225\n",
       "PRAISE            29\n",
       "dtype: int64"
      ]
     },
     "execution_count": 128,
     "metadata": {},
     "output_type": "execute_result"
    }
   ],
   "source": [
    "reactions_get_type"
   ]
  },
  {
   "cell_type": "code",
   "execution_count": 131,
   "id": "34e93fe7",
   "metadata": {},
   "outputs": [],
   "source": [
    "reactions['Date'] = pd.to_datetime(reactions['Date'])\n",
    "ent = reactions.query(\"Type == 'ENTERTAINMENT'\").index\n",
    "reactions = reactions.drop(ent)"
   ]
  },
  {
   "cell_type": "code",
   "execution_count": 138,
   "id": "35ff825a",
   "metadata": {},
   "outputs": [
    {
     "data": {
      "text/plain": [
       "Text(0.5, 1.0, 'Reactions by type')"
      ]
     },
     "execution_count": 138,
     "metadata": {},
     "output_type": "execute_result"
    },
    {
     "data": {
      "image/png": "[encoded data removed]",
      "text/plain": [
       "<Figure size 720x576 with 1 Axes>"
      ]
     },
     "metadata": {
      "needs_background": "light"
     },
     "output_type": "display_data"
    }
   ],
   "source": [
    "plt.figure(figsize=(10,8))\n",
    "sn.countplot(data = reactions, y = 'Type', palette='ch:s=.25,rot=-.25')\n",
    "plt.xlabel('Count', fontsize=16);\n",
    "plt.ylabel('Reaction', fontsize=16);\n",
    "plt.title('Reactions by type', fontsize=20)"
   ]
  },
  {
   "cell_type": "code",
   "execution_count": 169,
   "id": "64a53d17",
   "metadata": {},
   "outputs": [
    {
     "data": {
      "text/html": [
       "<div>\n",
       "<style scoped>\n",
       "    .dataframe tbody tr th:only-of-type {\n",
       "        vertical-align: middle;\n",
       "    }\n",
       "\n",
       "    .dataframe tbody tr th {\n",
       "        vertical-align: top;\n",
       "    }\n",
       "\n",
       "    .dataframe thead th {\n",
       "        text-align: right;\n",
       "    }\n",
       "</style>\n",
       "<table border=\"1\" class=\"dataframe\">\n",
       "  <thead>\n",
       "    <tr style=\"text-align: right;\">\n",
       "      <th></th>\n",
       "      <th>Date</th>\n",
       "      <th>Type</th>\n",
       "      <th>Link</th>\n",
       "    </tr>\n",
       "  </thead>\n",
       "  <tbody>\n",
       "    <tr>\n",
       "      <th>0</th>\n",
       "      <td>2022-09-11 02:49:29</td>\n",
       "      <td>LIKE</td>\n",
       "      <td>https://www.linkedin.com/feed/update/urn%3Ali%...</td>\n",
       "    </tr>\n",
       "    <tr>\n",
       "      <th>1</th>\n",
       "      <td>2022-09-10 14:17:11</td>\n",
       "      <td>LIKE</td>\n",
       "      <td>https://www.linkedin.com/feed/update/urn%3Ali%...</td>\n",
       "    </tr>\n",
       "    <tr>\n",
       "      <th>2</th>\n",
       "      <td>2022-09-10 14:17:04</td>\n",
       "      <td>LIKE</td>\n",
       "      <td>https://www.linkedin.com/feed/update/urn%3Ali%...</td>\n",
       "    </tr>\n",
       "    <tr>\n",
       "      <th>3</th>\n",
       "      <td>2022-09-10 14:16:54</td>\n",
       "      <td>LIKE</td>\n",
       "      <td>https://www.linkedin.com/feed/update/urn%3Ali%...</td>\n",
       "    </tr>\n",
       "    <tr>\n",
       "      <th>4</th>\n",
       "      <td>2022-09-10 04:03:25</td>\n",
       "      <td>LIKE</td>\n",
       "      <td>https://www.linkedin.com/feed/update/urn%3Ali%...</td>\n",
       "    </tr>\n",
       "  </tbody>\n",
       "</table>\n",
       "</div>"
      ],
      "text/plain": [
       "                 Date  Type                                               Link\n",
       "0 2022-09-11 02:49:29  LIKE  https://www.linkedin.com/feed/update/urn%3Ali%...\n",
       "1 2022-09-10 14:17:11  LIKE  https://www.linkedin.com/feed/update/urn%3Ali%...\n",
       "2 2022-09-10 14:17:04  LIKE  https://www.linkedin.com/feed/update/urn%3Ali%...\n",
       "3 2022-09-10 14:16:54  LIKE  https://www.linkedin.com/feed/update/urn%3Ali%...\n",
       "4 2022-09-10 04:03:25  LIKE  https://www.linkedin.com/feed/update/urn%3Ali%..."
      ]
     },
     "execution_count": 169,
     "metadata": {},
     "output_type": "execute_result"
    }
   ],
   "source": [
    "like_reactions = reactions.query(\"Type == 'LIKE'\")\n",
    "like_reactions.head()"
   ]
  },
  {
   "cell_type": "code",
   "execution_count": 170,
   "id": "a64837e2",
   "metadata": {},
   "outputs": [
    {
     "name": "stderr",
     "output_type": "stream",
     "text": [
      "C:\\Users\\Sajiah Naqib\\AppData\\Local\\Temp\\ipykernel_11928\\2458880788.py:1: SettingWithCopyWarning: \n",
      "A value is trying to be set on a copy of a slice from a DataFrame.\n",
      "Try using .loc[row_indexer,col_indexer] = value instead\n",
      "\n",
      "See the caveats in the documentation: https://pandas.pydata.org/pandas-docs/stable/user_guide/indexing.html#returning-a-view-versus-a-copy\n",
      "  like_reactions['Date'] = pd.to_datetime(like_reactions['Date'],format='%m%Y', errors='coerce').dt.to_period('m')\n"
     ]
    }
   ],
   "source": [
    "like_reactions['Date'] = pd.to_datetime(like_reactions['Date'],format='%m%Y', errors='coerce').dt.to_period('m')"
   ]
  },
  {
   "cell_type": "code",
   "execution_count": 171,
   "id": "1eefa4b1",
   "metadata": {},
   "outputs": [
    {
     "data": {
      "text/html": [
       "<div>\n",
       "<style scoped>\n",
       "    .dataframe tbody tr th:only-of-type {\n",
       "        vertical-align: middle;\n",
       "    }\n",
       "\n",
       "    .dataframe tbody tr th {\n",
       "        vertical-align: top;\n",
       "    }\n",
       "\n",
       "    .dataframe thead th {\n",
       "        text-align: right;\n",
       "    }\n",
       "</style>\n",
       "<table border=\"1\" class=\"dataframe\">\n",
       "  <thead>\n",
       "    <tr style=\"text-align: right;\">\n",
       "      <th></th>\n",
       "      <th>Date</th>\n",
       "      <th>Type</th>\n",
       "      <th>Link</th>\n",
       "    </tr>\n",
       "  </thead>\n",
       "  <tbody>\n",
       "    <tr>\n",
       "      <th>0</th>\n",
       "      <td>2022-09</td>\n",
       "      <td>LIKE</td>\n",
       "      <td>https://www.linkedin.com/feed/update/urn%3Ali%...</td>\n",
       "    </tr>\n",
       "    <tr>\n",
       "      <th>1</th>\n",
       "      <td>2022-09</td>\n",
       "      <td>LIKE</td>\n",
       "      <td>https://www.linkedin.com/feed/update/urn%3Ali%...</td>\n",
       "    </tr>\n",
       "    <tr>\n",
       "      <th>2</th>\n",
       "      <td>2022-09</td>\n",
       "      <td>LIKE</td>\n",
       "      <td>https://www.linkedin.com/feed/update/urn%3Ali%...</td>\n",
       "    </tr>\n",
       "    <tr>\n",
       "      <th>3</th>\n",
       "      <td>2022-09</td>\n",
       "      <td>LIKE</td>\n",
       "      <td>https://www.linkedin.com/feed/update/urn%3Ali%...</td>\n",
       "    </tr>\n",
       "    <tr>\n",
       "      <th>4</th>\n",
       "      <td>2022-09</td>\n",
       "      <td>LIKE</td>\n",
       "      <td>https://www.linkedin.com/feed/update/urn%3Ali%...</td>\n",
       "    </tr>\n",
       "  </tbody>\n",
       "</table>\n",
       "</div>"
      ],
      "text/plain": [
       "      Date  Type                                               Link\n",
       "0  2022-09  LIKE  https://www.linkedin.com/feed/update/urn%3Ali%...\n",
       "1  2022-09  LIKE  https://www.linkedin.com/feed/update/urn%3Ali%...\n",
       "2  2022-09  LIKE  https://www.linkedin.com/feed/update/urn%3Ali%...\n",
       "3  2022-09  LIKE  https://www.linkedin.com/feed/update/urn%3Ali%...\n",
       "4  2022-09  LIKE  https://www.linkedin.com/feed/update/urn%3Ali%..."
      ]
     },
     "execution_count": 171,
     "metadata": {},
     "output_type": "execute_result"
    }
   ],
   "source": [
    "like_reactions.head()"
   ]
  },
  {
   "cell_type": "code",
   "execution_count": 176,
   "id": "0ac77498",
   "metadata": {},
   "outputs": [],
   "source": [
    "count_likes = like_reactions.groupby(like_reactions['Date']).size().reset_index(name = 'count')"
   ]
  },
  {
   "cell_type": "code",
   "execution_count": 184,
   "id": "03abaa59",
   "metadata": {},
   "outputs": [],
   "source": [
    "count_likes['Date'] = count_likes['Date'].astype(str)"
   ]
  },
  {
   "cell_type": "code",
   "execution_count": 195,
   "id": "6be00f77",
   "metadata": {},
   "outputs": [
    {
     "data": {
      "text/plain": [
       "Text(0, 0.5, 'Likes')"
      ]
     },
     "execution_count": 195,
     "metadata": {},
     "output_type": "execute_result"
    },
    {
     "data": {
      "image/png": "[encoded data removed]",
      "text/plain": [
       "<Figure size 1440x576 with 1 Axes>"
      ]
     },
     "metadata": {
      "needs_background": "light"
     },
     "output_type": "display_data"
    }
   ],
   "source": [
    "fig, ax = plt.subplots(figsize=(20, 8))\n",
    "ax.plot(count_likes['Date'],count_likes['count'], color = '#55aa99')\n",
    "# ax.set_xticks(x)\n",
    "# ax.set_xticklabels(count_likes['Date'])\n",
    "# plt.show()\n",
    "fig.suptitle('My Like Activity', fontsize=20)\n",
    "plt.xlabel('Date', fontsize=18)\n",
    "plt.ylabel('Likes', fontsize=16)"
   ]
  },
  {
   "cell_type": "code",
   "execution_count": 197,
   "id": "0dbd591c",
   "metadata": {},
   "outputs": [],
   "source": [
    "messages = pd.read_csv('messages.csv')"
   ]
  },
  {
   "cell_type": "code",
   "execution_count": 198,
   "id": "81663d43",
   "metadata": {},
   "outputs": [
    {
     "name": "stdout",
     "output_type": "stream",
     "text": [
      "<class 'pandas.core.frame.DataFrame'>\n",
      "RangeIndex: 235 entries, 0 to 234\n",
      "Data columns (total 9 columns):\n",
      " #   Column              Non-Null Count  Dtype \n",
      "---  ------              --------------  ----- \n",
      " 0   CONVERSATION ID     235 non-null    object\n",
      " 1   CONVERSATION TITLE  19 non-null     object\n",
      " 2   FROM                234 non-null    object\n",
      " 3   SENDER PROFILE URL  208 non-null    object\n",
      " 4   TO                  234 non-null    object\n",
      " 5   DATE                235 non-null    object\n",
      " 6   SUBJECT             24 non-null     object\n",
      " 7   CONTENT             224 non-null    object\n",
      " 8   FOLDER              235 non-null    object\n",
      "dtypes: object(9)\n",
      "memory usage: 16.6+ KB\n"
     ]
    }
   ],
   "source": [
    "messages.info()"
   ]
  },
  {
   "cell_type": "code",
   "execution_count": 221,
   "id": "993eff4c",
   "metadata": {},
   "outputs": [],
   "source": [
    "mes_from = messages.query('FROM == \"Sajiah Naqib\"').groupby(messages['FROM']).size().reset_index(name = 'count-from')"
   ]
  },
  {
   "cell_type": "code",
   "execution_count": 222,
   "id": "57aa6dc6",
   "metadata": {},
   "outputs": [
    {
     "data": {
      "text/html": [
       "<div>\n",
       "<style scoped>\n",
       "    .dataframe tbody tr th:only-of-type {\n",
       "        vertical-align: middle;\n",
       "    }\n",
       "\n",
       "    .dataframe tbody tr th {\n",
       "        vertical-align: top;\n",
       "    }\n",
       "\n",
       "    .dataframe thead th {\n",
       "        text-align: right;\n",
       "    }\n",
       "</style>\n",
       "<table border=\"1\" class=\"dataframe\">\n",
       "  <thead>\n",
       "    <tr style=\"text-align: right;\">\n",
       "      <th></th>\n",
       "      <th>FROM</th>\n",
       "      <th>count-from</th>\n",
       "    </tr>\n",
       "  </thead>\n",
       "  <tbody>\n",
       "    <tr>\n",
       "      <th>0</th>\n",
       "      <td>Sajiah Naqib</td>\n",
       "      <td>53</td>\n",
       "    </tr>\n",
       "  </tbody>\n",
       "</table>\n",
       "</div>"
      ],
      "text/plain": [
       "           FROM  count-from\n",
       "0  Sajiah Naqib          53"
      ]
     },
     "execution_count": 222,
     "metadata": {},
     "output_type": "execute_result"
    }
   ],
   "source": [
    "mes_from_df = pd.DataFrame(mes_from)\n",
    "mes_from_df"
   ]
  },
  {
   "cell_type": "code",
   "execution_count": 223,
   "id": "71ba0ab4",
   "metadata": {},
   "outputs": [],
   "source": [
    "mes_to = messages.query('TO == \"Sajiah Naqib\"').groupby(messages['TO']).size().reset_index(name = 'count-to')"
   ]
  },
  {
   "cell_type": "code",
   "execution_count": 224,
   "id": "518e4d41",
   "metadata": {},
   "outputs": [
    {
     "data": {
      "text/html": [
       "<div>\n",
       "<style scoped>\n",
       "    .dataframe tbody tr th:only-of-type {\n",
       "        vertical-align: middle;\n",
       "    }\n",
       "\n",
       "    .dataframe tbody tr th {\n",
       "        vertical-align: top;\n",
       "    }\n",
       "\n",
       "    .dataframe thead th {\n",
       "        text-align: right;\n",
       "    }\n",
       "</style>\n",
       "<table border=\"1\" class=\"dataframe\">\n",
       "  <thead>\n",
       "    <tr style=\"text-align: right;\">\n",
       "      <th></th>\n",
       "      <th>TO</th>\n",
       "      <th>count-to</th>\n",
       "    </tr>\n",
       "  </thead>\n",
       "  <tbody>\n",
       "    <tr>\n",
       "      <th>0</th>\n",
       "      <td>Sajiah Naqib</td>\n",
       "      <td>181</td>\n",
       "    </tr>\n",
       "  </tbody>\n",
       "</table>\n",
       "</div>"
      ],
      "text/plain": [
       "             TO  count-to\n",
       "0  Sajiah Naqib       181"
      ]
     },
     "execution_count": 224,
     "metadata": {},
     "output_type": "execute_result"
    }
   ],
   "source": [
    "mes_to"
   ]
  },
  {
   "cell_type": "code",
   "execution_count": 228,
   "id": "76bababb",
   "metadata": {},
   "outputs": [],
   "source": [
    "y = [53, 181]\n",
    "x = ['Sent', 'Received']"
   ]
  },
  {
   "cell_type": "code",
   "execution_count": 230,
   "id": "d9d030d1",
   "metadata": {},
   "outputs": [
    {
     "data": {
      "image/png": "[encoded data removed]",
      "text/plain": [
       "<Figure size 432x288 with 1 Axes>"
      ]
     },
     "metadata": {},
     "output_type": "display_data"
    }
   ],
   "source": [
    "fig1, ax1 = plt.subplots()\n",
    "# ax1.pie(x, labels=labels, autopct='%1.1f%%',\n",
    "#         shadow=True, startangle=90,colors=colors,radius=1800)\n",
    "# ax1.axis('equal')\n",
    "# plt.title('Invitations sent and received')\n",
    "# plt.show()\n",
    "\n",
    "# Pie chart\n",
    "labels = x\n",
    "sizes = y\n",
    "#colors\n",
    "colors = ['#5fb4a3','#b2dad0']\n",
    "\n",
    " \n",
    "plt.pie(sizes, colors = colors, labels=labels, autopct='%1.1f%%', startangle=90, pctdistance=0.85)\n",
    "#draw circle\n",
    "centre_circle = plt.Circle((0,0),0.70,fc='white')\n",
    "fig = plt.gcf()\n",
    "fig.gca().add_artist(centre_circle)\n",
    "# Equal aspect ratio ensures that pie is drawn as a circle\n",
    "ax1.axis('equal')  \n",
    "plt.tight_layout()\n",
    "plt.title('Messages sent and received', fontsize=16)\n",
    "plt.show()"
   ]
  },
  {
   "cell_type": "code",
   "execution_count": null,
   "id": "98277303",
   "metadata": {},
   "outputs": [],
   "source": []
  }
 ],
 "metadata": {
  "kernelspec": {
   "display_name": "Python 3 (ipykernel)",
   "language": "python",
   "name": "python3"
  },
  "language_info": {
   "codemirror_mode": {
    "name": "ipython",
    "version": 3
   },
   "file_extension": ".py",
   "mimetype": "text/x-python",
   "name": "python",
   "nbconvert_exporter": "python",
   "pygments_lexer": "ipython3",
   "version": "3.8.13"
  }
 },
 "nbformat": 4,
 "nbformat_minor": 5
}
